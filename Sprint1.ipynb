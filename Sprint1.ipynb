{
 "cells": [
  {
   "cell_type": "code",
   "execution_count": 15,
   "id": "aacece7a-834e-451f-a0e7-20c7a3828b85",
   "metadata": {},
   "outputs": [
    {
     "name": "stdout",
     "output_type": "stream",
     "text": [
      "                  Nombre  Edad  Estatura\n",
      "0         Melissa Millan    46       173\n",
      "1       Boris Betancourt    46       179\n",
      "2            Osman Marin    21       170\n",
      "3    Gabriela Betancourt    15       165\n",
      "4     Natalia Betancourt    20       160\n",
      "5             Lina Duran    20       166\n",
      "6            Andrés Caña    21       180\n",
      "7         Nicolas Millan    28       176\n",
      "8      Jonathan Castillo    42       178\n",
      "9   Maria Paula Barahona    20       155\n",
      "10      Sebastian Millan    39       177\n",
      " \n",
      "Escoge que columna desea organizar y el orden (ascendente o descendente)\n",
      " \n"
     ]
    },
    {
     "name": "stdin",
     "output_type": "stream",
     "text": [
      "Nombre de la columna:  Wtf\n",
      "Orden de la columna:  Descendente\n"
     ]
    },
    {
     "name": "stdout",
     "output_type": "stream",
     "text": [
      " \n",
      "Inválido el nombre\n"
     ]
    }
   ],
   "source": [
    "#Imports needed to work with Excel\n",
    "import pandas as pd\n",
    "\n",
    "#Reading excel database through path\n",
    "data = pd.read_csv('Sprint/Sprint 1/sprint_1.csv')\n",
    "\n",
    "print(data)\n",
    "\n",
    "#Ask user which column and order they wish to use\n",
    "print(\" \")\n",
    "print(\"Escoge que columna desea organizar y el orden (ascendente o descendente)\")\n",
    "print(\" \")\n",
    "\n",
    "#Save in variables the users answer\n",
    "name = input(\"Nombre de la columna: \")\n",
    "order = input(\"Orden de la columna: \")\n",
    "print(\" \")\n",
    "\n",
    "#Check if the inputs are valid, based on the list of headers and the inputs\n",
    "columnHeaders = (data.columns.values)\n",
    "\n",
    "if name==columnHeaders[0] or name==columnHeaders[1] or name==columnHeaders[2]:\n",
    "    if order==\"ascendente\" or order==\"Ascendente\":\n",
    "        print(data.sort_values(name))\n",
    "    elif order==\"descendente\" or order==\"Descendente\":\n",
    "        print(data.sort_values(name, ascending=False))\n",
    "    else:\n",
    "        print(\"Inválido el orden\")\n",
    "else:\n",
    "    print(\"Inválido el nombre\")\n",
    "    "
   ]
  },
  {
   "cell_type": "code",
   "execution_count": null,
   "id": "92095396-e317-4bb6-9e88-8459d2d3bc16",
   "metadata": {},
   "outputs": [],
   "source": []
  },
  {
   "cell_type": "code",
   "execution_count": null,
   "id": "66af8f4a-0835-41f5-a0bf-fb5f07467e6f",
   "metadata": {},
   "outputs": [],
   "source": []
  }
 ],
 "metadata": {
  "kernelspec": {
   "display_name": "Python 3 (ipykernel)",
   "language": "python",
   "name": "python3"
  },
  "language_info": {
   "codemirror_mode": {
    "name": "ipython",
    "version": 3
   },
   "file_extension": ".py",
   "mimetype": "text/x-python",
   "name": "python",
   "nbconvert_exporter": "python",
   "pygments_lexer": "ipython3",
   "version": "3.9.12"
  }
 },
 "nbformat": 4,
 "nbformat_minor": 5
}
